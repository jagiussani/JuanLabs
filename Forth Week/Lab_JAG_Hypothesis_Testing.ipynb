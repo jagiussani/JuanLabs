{
 "cells": [
  {
   "cell_type": "markdown",
   "id": "25f1f07d",
   "metadata": {},
   "source": [
    "![logo_ironhack_blue 7](https://user-images.githubusercontent.com/23629340/40541063-a07a0a8a-601a-11e8-91b5-2f13e4e6b441.png)\n",
    "\n",
    "# Lab | Hypothesis Testing\n",
    "\n",
    "\n",
    "### Instructions\n",
    "\n",
    "1. It is assumed that the mean systolic blood pressure is `μ = 120 mm Hg`. In the Honolulu Heart Study, a sample of `n = 100` people had an average systolic blood pressure of 130.1 mm Hg with a standard deviation of 21.21 mm Hg. Is the group significantly different (with respect to systolic blood pressure!) from the regular population?\n",
    "\n",
    "   - Set up the hypothesis test.\n",
    "   - Write down all the steps followed for setting up the test.\n",
    "   - Calculate the test statistic by hand and also code it in Python. It should be 4.76190. What decision can you make based on this calculated value?\n",
    "\n",
    "Hint: here is the statistic [table](https://yuppal.people.ysu.edu/econ_3790/t-table.pdf ) "
   ]
  },
  {
   "cell_type": "code",
   "execution_count": null,
   "id": "545174af",
   "metadata": {},
   "outputs": [],
   "source": [
    "# What is given:\n",
    "# Population Mean: μ = 120 mm Hg\n",
    "# Sample size: n = 100\n",
    "# Sample mean: x° = 130.1 mm Hg\n",
    "# Sample Standard Devaition: sd = 21.21 mm Hg"
   ]
  },
  {
   "cell_type": "markdown",
   "id": "c7e9371c",
   "metadata": {},
   "source": [
    "<b> Hiypothesis Test:"
   ]
  },
  {
   "cell_type": "markdown",
   "id": "b88f198b",
   "metadata": {},
   "source": [
    "H0: Mean systolic blood pressure of the Honolulu is the same as the rest. μ = 120 mm Hg"
   ]
  },
  {
   "cell_type": "markdown",
   "id": "14e8f99f",
   "metadata": {},
   "source": [
    "H1: Mean systolic blood pressure of the Honolulu is significantly different than the rest. μ != 120 mm Hg"
   ]
  },
  {
   "cell_type": "markdown",
   "id": "069cc42c",
   "metadata": {},
   "source": [
    "<b/> Steps to do the Hypothesis Test"
   ]
  },
  {
   "cell_type": "markdown",
   "id": "a2744d58",
   "metadata": {},
   "source": [
    "Since the sample size is big enough, we can assume the normal distribution. \n",
    "- Step 1: Find out the critical Value. Since we have a stndard normal distribution and our confidence interval is 95%, Sigma 1 implies a critical value of |1,96|\n",
    "- Step 2: Calculating the t-value. For that we need the Standrad deviation or error and insert the values in the formula\n",
    "- Step 3: Comparing the critical & t-value \n",
    "- Step 4: Interpreting the results. Is the t-value bigger than the critical value, we reject the Null-hypothesis. If not, we failed to reject it. "
   ]
  },
  {
   "cell_type": "markdown",
   "id": "a0aea9a1",
   "metadata": {},
   "source": [
    "<b/> Computing the Hypothesis test"
   ]
  },
  {
   "cell_type": "code",
   "execution_count": 2,
   "id": "ec1b3b6a",
   "metadata": {},
   "outputs": [
    {
     "name": "stdout",
     "output_type": "stream",
     "text": [
      "The z score of our sample is: 4.76\n"
     ]
    }
   ],
   "source": [
    "z = (130.1-120)/(21.21/10)\n",
    "print(\"The z score of our sample is: {:.2f}\".format(z))"
   ]
  },
  {
   "cell_type": "code",
   "execution_count": 4,
   "id": "8f4623cc",
   "metadata": {},
   "outputs": [
    {
     "name": "stdout",
     "output_type": "stream",
     "text": [
      "The critical value corresponding to a 0.95 area of a normal distribution is: 1.64\n"
     ]
    }
   ],
   "source": [
    "import scipy.stats as stats\n",
    "zc = stats.norm.ppf(0.95) # 0.95 is the confidence level.\n",
    "print(\"The critical value corresponding to a 0.95 area of a normal distribution is: {:.2f}\".format(zc))"
   ]
  },
  {
   "cell_type": "markdown",
   "id": "e3e5150f",
   "metadata": {},
   "source": [
    "Let's compare our z-score with the critical value:zc. Are we in the forbiden region?\n",
    "\n",
    "z = 4.76 > zc = 1.64\n",
    "\n",
    "-> We reject the null hypothesis. \n",
    "The people of Honolulu have significantly different bloodpressure than the rest"
   ]
  },
  {
   "cell_type": "markdown",
   "id": "317d5318",
   "metadata": {},
   "source": [
    "### Optional\n",
    "2. In a packing plant, a machine packs cartons with jars. It is supposed that a new machine will pack faster on the average than the machine currently used. To test that hypothesis, the times it takes each machine to pack ten cartons are recorded. The results, in seconds, are shown in the tables in the file `Data/machine.txt`. Assume that there is sufficient evidence to conduct the t test, does the data provide sufficient evidence to show if one machine is better than the other.\n",
    "\n",
    "Hint: use two sample t-test\n",
    "\n",
    "t= (sample_mean(x1) - sample_mean(x2)) / sqrt(square(s1)/n1  +  square(s2)/n2 )"
   ]
  },
  {
   "cell_type": "code",
   "execution_count": null,
   "id": "41c671cb",
   "metadata": {},
   "outputs": [],
   "source": []
  }
 ],
 "metadata": {
  "kernelspec": {
   "display_name": "Python 3 (ipykernel)",
   "language": "python",
   "name": "python3"
  },
  "language_info": {
   "codemirror_mode": {
    "name": "ipython",
    "version": 3
   },
   "file_extension": ".py",
   "mimetype": "text/x-python",
   "name": "python",
   "nbconvert_exporter": "python",
   "pygments_lexer": "ipython3",
   "version": "3.9.13"
  }
 },
 "nbformat": 4,
 "nbformat_minor": 5
}
