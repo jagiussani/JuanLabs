{
 "cells": [
  {
   "cell_type": "markdown",
   "id": "29d0919a",
   "metadata": {},
   "source": [
    "![logo_ironhack_blue 7](https://user-images.githubusercontent.com/23629340/40541063-a07a0a8a-601a-11e8-91b5-2f13e4e6b441.png)\n",
    "\n",
    "# Lab | Hypothesis Testing\n",
    "\n",
    "\n",
    "### Instructions\n",
    "\n",
    "1. It is assumed that the mean systolic blood pressure is `μ = 120 mm Hg`. In the Honolulu Heart Study, a sample of `n = 100` people had an average systolic blood pressure of 130.1 mm Hg with a standard deviation of 21.21 mm Hg. Is the group significantly different (with respect to systolic blood pressure!) from the regular population?\n",
    "\n",
    "   - Set up the hypothesis test.\n",
    "   - Write down all the steps followed for setting up the test.\n",
    "   - Calculate the test statistic by hand and also code it in Python. It should be 4.76190. What decision can you make based on this calculated value?\n",
    "\n",
    "Hint: here is the statistic [table](https://yuppal.people.ysu.edu/econ_3790/t-table.pdf ) \n",
    "### Optional\n",
    "2. In a packing plant, a machine packs cartons with jars. It is supposed that a new machine will pack faster on the average than the machine currently used. To test that hypothesis, the times it takes each machine to pack ten cartons are recorded. The results, in seconds, are shown in the tables in the file `Data/machine.txt`. Assume that there is sufficient evidence to conduct the t test, does the data provide sufficient evidence to show if one machine is better than the other.\n",
    "\n",
    "Hint: use two sample t-test\n",
    "\n",
    "t= (sample_mean(x1) - sample_mean(x2)) / sqrt(square(s1)/n1  +  square(s2)/n2 )\n"
   ]
  },
  {
   "cell_type": "code",
   "execution_count": null,
   "id": "73488f09",
   "metadata": {},
   "outputs": [],
   "source": [
    "# What is given:\n",
    "# Population Mean: μ = 120 mm Hg\n",
    "# Sample size: n = 100\n",
    "# Sample mean: x° = 130.1 mm Hg\n",
    "# Sample Standard Devaition: sd = 21.21 mm Hg"
   ]
  },
  {
   "cell_type": "markdown",
   "id": "c0dd0a16",
   "metadata": {},
   "source": [
    "<b> Hiypothesis Test:"
   ]
  },
  {
   "cell_type": "markdown",
   "id": "cc342816",
   "metadata": {},
   "source": [
    "H0: Mean systolic blood pressure of the Honolulu is the same as the rest. μ = 120 mm Hg"
   ]
  },
  {
   "cell_type": "markdown",
   "id": "12f7c9a0",
   "metadata": {},
   "source": [
    "H1: Mean systolic blood pressure of the Honolulu is significantly different than the rest. μ != 120 mm Hg"
   ]
  },
  {
   "cell_type": "code",
   "execution_count": null,
   "id": "9a1b5f2b",
   "metadata": {},
   "outputs": [],
   "source": []
  }
 ],
 "metadata": {
  "kernelspec": {
   "display_name": "Python 3 (ipykernel)",
   "language": "python",
   "name": "python3"
  },
  "language_info": {
   "codemirror_mode": {
    "name": "ipython",
    "version": 3
   },
   "file_extension": ".py",
   "mimetype": "text/x-python",
   "name": "python",
   "nbconvert_exporter": "python",
   "pygments_lexer": "ipython3",
   "version": "3.9.13"
  }
 },
 "nbformat": 4,
 "nbformat_minor": 5
}
