{
 "cells": [
  {
   "cell_type": "markdown",
   "id": "efcc9ded",
   "metadata": {},
   "source": [
    "# Welcome to TechnoViking's Vacation"
   ]
  },
  {
   "cell_type": "markdown",
   "id": "3c8ad453",
   "metadata": {},
   "source": [
    "## Table of contents\n",
    "\n",
    "- [Purpose](#Purpose)\n",
    "- [Name](#Name)\n",
    "- [Destination](#Destination)\n",
    "- [Why Berlin?](#Why_Berlin?)\n",
    "- [Relevant Annotations](#Relevant_Annotations)\n"
   ]
  },
  {
   "cell_type": "markdown",
   "id": "9ba0d310",
   "metadata": {},
   "source": [
    "## Purpose <a id='Purpose'></a>"
   ]
  },
  {
   "cell_type": "markdown",
   "id": "d1fdd054",
   "metadata": {},
   "source": [
    "<font color='green'>Purpose: We want to learn TechnoViking's preferences when his vacationing. What he loves to do, where does he want to go.. etc.</font>"
   ]
  },
  {
   "cell_type": "markdown",
   "id": "b12285c3",
   "metadata": {},
   "source": [
    "## Name <a id='Name'></a>"
   ]
  },
  {
   "cell_type": "code",
   "execution_count": 2,
   "id": "b182ad18",
   "metadata": {},
   "outputs": [
    {
     "name": "stdout",
     "output_type": "stream",
     "text": [
      "Insert the name of your Viking: Carlos\n"
     ]
    }
   ],
   "source": [
    "Name_Viking = input(\"Insert the name of your Viking: \")"
   ]
  },
  {
   "cell_type": "markdown",
   "id": "acf45e50",
   "metadata": {},
   "source": [
    "![Gif](https://media.giphy.com/media/v1.Y2lkPTc5MGI3NjExOTUzYzkxNzc2NzNmZjY1ZGMyMWQ5N2Y3ZDExZTAxYWE3NmQ5M2ZiYiZjdD1n/Hic2hhimBqrjW/giphy.gif)"
   ]
  },
  {
   "cell_type": "markdown",
   "id": "b683671b",
   "metadata": {},
   "source": [
    "## Destination <a id='Destination'></a>"
   ]
  },
  {
   "cell_type": "markdown",
   "id": "f1805845",
   "metadata": {},
   "source": [
    "### Where should TechnoViking go?"
   ]
  },
  {
   "cell_type": "markdown",
   "id": "d7f7c6c5",
   "metadata": {},
   "source": [
    "*You guessed it:*"
   ]
  },
  {
   "cell_type": "markdown",
   "id": "4fb2b3d6",
   "metadata": {},
   "source": [
    "![PerfectVacation.com_Photo](https://www.visitberlin.de/system/files/styles/visitberlin_teaser_block_small_visitberlin_mobile_1x/private/image/iStock_000049394172_istock.com_Mapics_DL_PPT_0.jpg?h=5f29f7b4&itok=1pMBIJfS)"
   ]
  },
  {
   "cell_type": "markdown",
   "id": "95830712",
   "metadata": {},
   "source": [
    "### Berlin"
   ]
  },
  {
   "cell_type": "markdown",
   "id": "c494748e",
   "metadata": {},
   "source": [
    "## Why Berlin? <a id='Why_Berlin?'></a>"
   ]
  },
  {
   "cell_type": "markdown",
   "id": "2bacc758",
   "metadata": {},
   "source": [
    "It could not be anywhere else:\n",
    "- In Berlin he can dance all weekend long in the same club\n",
    "- And yeah, he will hear a lot of techno, but he enjoys other kinds of music\n",
    "- Here he can be topeless and no ones cares\n"
   ]
  },
  {
   "cell_type": "code",
   "execution_count": 7,
   "id": "c505882e",
   "metadata": {
    "scrolled": true
   },
   "outputs": [
    {
     "name": "stderr",
     "output_type": "stream",
     "text": [
      "/Users/juanandresgiussani/opt/anaconda3/lib/python3.9/site-packages/IPython/core/display.py:724: UserWarning: Consider using IPython.display.IFrame instead\n",
      "  warnings.warn(\"Consider using IPython.display.IFrame instead\")\n"
     ]
    },
    {
     "data": {
      "text/html": [
       "<iframe width=\"560\" height=\"315\" src=\"https://www.youtube.com/embed/vLe7IO5GYe0?start=1\" title=\"YouTube video player\" frameborder=\"0\" allow=\"accelerometer; autoplay; clipboard-write; encrypted-media; gyroscope; picture-in-picture; web-share\" allowfullscreen></iframe>"
      ],
      "text/plain": [
       "<IPython.core.display.HTML object>"
      ]
     },
     "execution_count": 7,
     "metadata": {},
     "output_type": "execute_result"
    }
   ],
   "source": [
    "from IPython.display import HTML\n",
    "HTML('<iframe width=\"560\" height=\"315\" src=\"https://www.youtube.com/embed/vLe7IO5GYe0?start=1\" title=\"YouTube video player\" frameborder=\"0\" allow=\"accelerometer; autoplay; clipboard-write; encrypted-media; gyroscope; picture-in-picture; web-share\" allowfullscreen></iframe>')"
   ]
  },
  {
   "cell_type": "markdown",
   "id": "238623e7",
   "metadata": {},
   "source": [
    "## Relevant Annotations <a id='Relevant_Annotations'></a>"
   ]
  },
  {
   "cell_type": "code",
   "execution_count": null,
   "id": "c080dae4",
   "metadata": {},
   "outputs": [],
   "source": [
    "#### Relevant annotations:\n",
    "#1. Input function\n",
    "#2. Paste Pictures-URL in a Markdown Cell: ![Name](URL)\n",
    "#3. Change color: <font color='green'>text</font>\n",
    "#4. Do a table of contents. Important: Anchor <a id='anchor'></a>"
   ]
  },
  {
   "cell_type": "markdown",
   "id": "2b8d547b",
   "metadata": {},
   "source": [
    "![TechnoViking_Photo](https://i.ytimg.com/vi/UjCdB5p2v0Y/hqdefault.jpg)"
   ]
  }
 ],
 "metadata": {
  "kernelspec": {
   "display_name": "Python 3 (ipykernel)",
   "language": "python",
   "name": "python3"
  },
  "language_info": {
   "codemirror_mode": {
    "name": "ipython",
    "version": 3
   },
   "file_extension": ".py",
   "mimetype": "text/x-python",
   "name": "python",
   "nbconvert_exporter": "python",
   "pygments_lexer": "ipython3",
   "version": "3.9.13"
  }
 },
 "nbformat": 4,
 "nbformat_minor": 5
}
