{
 "cells": [
  {
   "cell_type": "code",
   "execution_count": 24,
   "id": "7119e53f",
   "metadata": {},
   "outputs": [],
   "source": [
    "############ Excercise 1 ##########\n",
    "# 1. Import the numpy package under the name `np` \n",
    "\n",
    "\n",
    "import numpy as np\n"
   ]
  },
  {
   "cell_type": "code",
   "execution_count": 25,
   "id": "218ef2fa",
   "metadata": {},
   "outputs": [
    {
     "name": "stdout",
     "output_type": "stream",
     "text": [
      "[0. 0. 0. 0. 0. 0. 0. 0. 0. 0.]\n"
     ]
    }
   ],
   "source": [
    "############ Excercise 2 ##########\n",
    "# 2. Create a null vector of size 10\n",
    "\n",
    "n = 10\n",
    "\n",
    "null_v = np.zeros(n)\n",
    "print(null_v)"
   ]
  },
  {
   "cell_type": "code",
   "execution_count": 26,
   "id": "d9771cc0",
   "metadata": {},
   "outputs": [
    {
     "name": "stdout",
     "output_type": "stream",
     "text": [
      "[0. 0. 0. 0. 0. 0. 0. 0. 0. 5.]\n"
     ]
    }
   ],
   "source": [
    "############ Excercise 3 ##########\n",
    "# 3. Create a null vector of size 10 but the fifth value which is 1 \n",
    "n = 10\n",
    "\n",
    "null_v5 = np.zeros(n)\n",
    "null_v5[-1] = 5\n",
    "print(null_v5)"
   ]
  },
  {
   "cell_type": "code",
   "execution_count": 28,
   "id": "36ed1d3d",
   "metadata": {},
   "outputs": [
    {
     "name": "stdout",
     "output_type": "stream",
     "text": [
      "[10 11 12 13 14 15 16 17 18 19 20 21 22 23 24 25 26 27 28 29 30 31 32 33\n",
      " 34 35 36 37 38 39 40 41 42 43 44 45 46 47 48 49]\n"
     ]
    }
   ],
   "source": [
    "#### 4. Create a vector with values ranging from 10 to 49\n",
    "v1 = np.arange(10, 50)\n",
    "print(v1)"
   ]
  },
  {
   "cell_type": "code",
   "execution_count": 37,
   "id": "9b84627d",
   "metadata": {},
   "outputs": [
    {
     "name": "stdout",
     "output_type": "stream",
     "text": [
      "[[0 1 2]\n",
      " [3 4 5]\n",
      " [6 7 8]]\n"
     ]
    }
   ],
   "source": [
    "#### 5. Create a 3x3 matrix with values ranging from 0 to 8\n",
    "v2 = np.arange(0, 9)\n",
    "v3 = v2.reshape((3, 3))\n",
    "print(v3)"
   ]
  },
  {
   "cell_type": "code",
   "execution_count": 38,
   "id": "ca237cf9",
   "metadata": {},
   "outputs": [
    {
     "name": "stdout",
     "output_type": "stream",
     "text": [
      "(array([0, 1, 4]),)\n"
     ]
    }
   ],
   "source": [
    "#### 6. Find indices of non-zero elements from [1,2,0,0,4,0]\n",
    "n = [1,2,0,0,4,0]\n",
    "non_z = np.nonzero(n)\n",
    "print(non_z)"
   ]
  },
  {
   "cell_type": "code",
   "execution_count": 40,
   "id": "aac1229a",
   "metadata": {},
   "outputs": [
    {
     "name": "stdout",
     "output_type": "stream",
     "text": [
      "[[1. 0. 0.]\n",
      " [0. 1. 0.]\n",
      " [0. 0. 1.]]\n"
     ]
    }
   ],
   "source": [
    "#### 7. Create a 3x3 identity matrix \n",
    "i = np.eye(3, 3)\n",
    "print(i)"
   ]
  },
  {
   "cell_type": "code",
   "execution_count": 44,
   "id": "f7acb3d7",
   "metadata": {},
   "outputs": [
    {
     "name": "stdout",
     "output_type": "stream",
     "text": [
      "[[[0.41699453 0.96357507 0.89433379]\n",
      "  [0.60791462 0.41601848 0.24542332]\n",
      "  [0.81130221 0.37427589 0.99038385]]\n",
      "\n",
      " [[0.94166693 0.76425477 0.26168617]\n",
      "  [0.04155367 0.6942567  0.47522049]\n",
      "  [0.45435532 0.01728234 0.19049787]]\n",
      "\n",
      " [[0.4287936  0.10600288 0.78301268]\n",
      "  [0.18208389 0.7534409  0.37506058]\n",
      "  [0.66197651 0.65830914 0.91457529]]]\n"
     ]
    }
   ],
   "source": [
    "#### 8. Create a 3x3x3 array with random values \n",
    "third = np.random.random((3,3,3))\n",
    "print(third)"
   ]
  },
  {
   "cell_type": "code",
   "execution_count": 53,
   "id": "e5074261",
   "metadata": {},
   "outputs": [
    {
     "name": "stdout",
     "output_type": "stream",
     "text": [
      "0.029364104515817502\n",
      "0.9819709628771961\n"
     ]
    }
   ],
   "source": [
    "#### 9. Create a 10x10 array with random values and find the minimum and maximum values (★☆☆)\n",
    "ten = np.random.random((10,10))\n",
    "Minimal = ten.min()\n",
    "Maximal = ten.max()\n",
    "\n",
    "print(Minimal)\n",
    "print(Maximal)"
   ]
  },
  {
   "cell_type": "code",
   "execution_count": 51,
   "id": "59f8afaf",
   "metadata": {},
   "outputs": [
    {
     "name": "stdout",
     "output_type": "stream",
     "text": [
      "0.5309248173969215\n"
     ]
    }
   ],
   "source": [
    "#### 10. Create a random vector of size 30 and find the mean value\n",
    "vs = np.random.random((1,30))\n",
    "Mean_vs = vs.mean()\n",
    "print(Mean_vs)"
   ]
  },
  {
   "cell_type": "code",
   "execution_count": 65,
   "id": "39da250d",
   "metadata": {},
   "outputs": [
    {
     "name": "stdout",
     "output_type": "stream",
     "text": [
      "[[0 0 0 0 0]\n",
      " [1 0 0 0 0]\n",
      " [0 2 0 0 0]\n",
      " [0 0 3 0 0]\n",
      " [0 0 0 4 0]]\n"
     ]
    }
   ],
   "source": [
    "#### 11. Create a 5x5 matrix with values 1,2,3,4 just below the diagonal\n",
    "cinco = np.diag(np.arange(1,5), k=-1)\n",
    "print(cinco)"
   ]
  },
  {
   "cell_type": "code",
   "execution_count": 70,
   "id": "4d5560b2",
   "metadata": {},
   "outputs": [
    {
     "name": "stdout",
     "output_type": "stream",
     "text": [
      "[[0.30547553 0.34913816 0.56339146 0.43677781 0.24049891]\n",
      " [0.95415332 0.65677427 0.14971952 0.81278643 0.43211474]\n",
      " [0.23240818 0.95917392 0.57204077 0.91721757 0.5059969 ]\n",
      " [0.92924541 0.93802386 0.25061424 0.72649278 0.97519858]\n",
      " [0.89578798 0.3651911  0.60801452 0.34358309 0.22521943]]\n"
     ]
    }
   ],
   "source": [
    "#### 12. Normalize a 5x5 random matrix\n",
    "# Hint: (x -mean)/std` \n",
    "#--> To normalize a matrix means to scale \n",
    "# the values such that that the range of the row or column \n",
    "# values is between 0 and 1.\n",
    "\n",
    "d = np.random.random((5, 5))\n",
    "print(d)\n"
   ]
  },
  {
   "cell_type": "code",
   "execution_count": 76,
   "id": "9e4d494b",
   "metadata": {},
   "outputs": [
    {
     "name": "stdout",
     "output_type": "stream",
     "text": [
      "[[-0.96839283 -0.81081368 -0.03757015 -0.4945208  -1.20289448]\n",
      " [ 1.3726956   0.29944991 -1.53051872  0.86250024 -0.51134989]\n",
      " [-1.23209404  1.39081503 -0.00635465  1.2393939  -0.24470803]\n",
      " [ 1.28280257  1.31448413 -1.16638808  0.5510651   1.44864827]\n",
      " [ 1.16205418 -0.75287837  0.1234752  -0.83086202 -1.25803837]]\n"
     ]
    }
   ],
   "source": [
    "mean_d = np.mean(d)\n",
    "stdev_d = np.std(d)\n",
    "\n",
    "normalized_data = (d-mean_d)/stdev_d\n",
    "print(normalized_data)"
   ]
  },
  {
   "cell_type": "code",
   "execution_count": 80,
   "id": "af04119f",
   "metadata": {},
   "outputs": [
    {
     "name": "stdout",
     "output_type": "stream",
     "text": [
      "[1 4 7]\n"
     ]
    }
   ],
   "source": [
    "#### 13. How to find common values between two arrays?\n",
    "# np.intersect1d\n",
    "common = np.intersect1d([1,4,5,7,8],[7,3,4,1])\n",
    "print(common)"
   ]
  },
  {
   "cell_type": "code",
   "execution_count": 90,
   "id": "d5e84b32",
   "metadata": {},
   "outputs": [
    {
     "ename": "AttributeError",
     "evalue": "module 'numpy' has no attribute 'rand'",
     "output_type": "error",
     "traceback": [
      "\u001b[0;31m---------------------------------------------------------------------------\u001b[0m",
      "\u001b[0;31mAttributeError\u001b[0m                            Traceback (most recent call last)",
      "\u001b[0;32m/var/folders/1y/cx5kjkzn1c7f97jv38f_rcx40000gn/T/ipykernel_8632/186669289.py\u001b[0m in \u001b[0;36m<module>\u001b[0;34m\u001b[0m\n\u001b[1;32m      1\u001b[0m \u001b[0;31m#### 14. Create a random vector of size 10 and sort it\u001b[0m\u001b[0;34m\u001b[0m\u001b[0;34m\u001b[0m\u001b[0m\n\u001b[1;32m      2\u001b[0m \u001b[0;31m# sort\u001b[0m\u001b[0;34m\u001b[0m\u001b[0;34m\u001b[0m\u001b[0m\n\u001b[0;32m----> 3\u001b[0;31m \u001b[0mr\u001b[0m \u001b[0;34m=\u001b[0m \u001b[0mnp\u001b[0m\u001b[0;34m.\u001b[0m\u001b[0mrand\u001b[0m\u001b[0;34m(\u001b[0m\u001b[0;34m(\u001b[0m\u001b[0;36m1\u001b[0m\u001b[0;34m,\u001b[0m\u001b[0;36m10\u001b[0m\u001b[0;34m)\u001b[0m\u001b[0;34m)\u001b[0m\u001b[0;34m\u001b[0m\u001b[0;34m\u001b[0m\u001b[0m\n\u001b[0m\u001b[1;32m      4\u001b[0m \u001b[0mprint\u001b[0m\u001b[0;34m(\u001b[0m\u001b[0mr\u001b[0m\u001b[0;34m)\u001b[0m\u001b[0;34m\u001b[0m\u001b[0;34m\u001b[0m\u001b[0m\n",
      "\u001b[0;32m~/opt/anaconda3/lib/python3.9/site-packages/numpy/__init__.py\u001b[0m in \u001b[0;36m__getattr__\u001b[0;34m(attr)\u001b[0m\n\u001b[1;32m    311\u001b[0m                 \u001b[0;32mreturn\u001b[0m \u001b[0mTester\u001b[0m\u001b[0;34m\u001b[0m\u001b[0;34m\u001b[0m\u001b[0m\n\u001b[1;32m    312\u001b[0m \u001b[0;34m\u001b[0m\u001b[0m\n\u001b[0;32m--> 313\u001b[0;31m             raise AttributeError(\"module {!r} has no attribute \"\n\u001b[0m\u001b[1;32m    314\u001b[0m                                  \"{!r}\".format(__name__, attr))\n\u001b[1;32m    315\u001b[0m \u001b[0;34m\u001b[0m\u001b[0m\n",
      "\u001b[0;31mAttributeError\u001b[0m: module 'numpy' has no attribute 'rand'"
     ]
    }
   ],
   "source": [
    "#### 14. Create a random vector of size 10 and sort it\n",
    "# sort\n",
    "r = np.rand((1,10))\n",
    "print(r)"
   ]
  },
  {
   "cell_type": "code",
   "execution_count": null,
   "id": "19c4fac6",
   "metadata": {},
   "outputs": [],
   "source": []
  }
 ],
 "metadata": {
  "kernelspec": {
   "display_name": "Python 3 (ipykernel)",
   "language": "python",
   "name": "python3"
  },
  "language_info": {
   "codemirror_mode": {
    "name": "ipython",
    "version": 3
   },
   "file_extension": ".py",
   "mimetype": "text/x-python",
   "name": "python",
   "nbconvert_exporter": "python",
   "pygments_lexer": "ipython3",
   "version": "3.9.13"
  }
 },
 "nbformat": 4,
 "nbformat_minor": 5
}
