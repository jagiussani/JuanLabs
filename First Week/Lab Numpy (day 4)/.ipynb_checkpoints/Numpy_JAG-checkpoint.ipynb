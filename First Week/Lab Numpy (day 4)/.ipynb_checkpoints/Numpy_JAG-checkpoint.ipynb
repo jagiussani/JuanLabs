{
 "cells": [
  {
   "cell_type": "code",
   "execution_count": 24,
   "id": "3c7d3e71",
   "metadata": {},
   "outputs": [],
   "source": [
    "############ Excercise 1 ##########\n",
    "# 1. Import the numpy package under the name `np` \n",
    "\n",
    "\n",
    "import numpy as np\n"
   ]
  },
  {
   "cell_type": "code",
   "execution_count": 25,
   "id": "e8ebb91a",
   "metadata": {},
   "outputs": [
    {
     "name": "stdout",
     "output_type": "stream",
     "text": [
      "[0. 0. 0. 0. 0. 0. 0. 0. 0. 0.]\n"
     ]
    }
   ],
   "source": [
    "############ Excercise 2 ##########\n",
    "# 2. Create a null vector of size 10\n",
    "\n",
    "n = 10\n",
    "\n",
    "null_v = np.zeros(n)\n",
    "print(null_v)"
   ]
  },
  {
   "cell_type": "code",
   "execution_count": 26,
   "id": "b46168e0",
   "metadata": {},
   "outputs": [
    {
     "name": "stdout",
     "output_type": "stream",
     "text": [
      "[0. 0. 0. 0. 0. 0. 0. 0. 0. 5.]\n"
     ]
    }
   ],
   "source": [
    "############ Excercise 3 ##########\n",
    "# 3. Create a null vector of size 10 but the fifth value which is 1 \n",
    "n = 10\n",
    "\n",
    "null_v5 = np.zeros(n)\n",
    "null_v5[-1] = 5\n",
    "print(null_v5)"
   ]
  },
  {
   "cell_type": "code",
   "execution_count": 28,
   "id": "5cf2a844",
   "metadata": {},
   "outputs": [
    {
     "name": "stdout",
     "output_type": "stream",
     "text": [
      "[10 11 12 13 14 15 16 17 18 19 20 21 22 23 24 25 26 27 28 29 30 31 32 33\n",
      " 34 35 36 37 38 39 40 41 42 43 44 45 46 47 48 49]\n"
     ]
    }
   ],
   "source": [
    "#### 4. Create a vector with values ranging from 10 to 49\n",
    "v1 = np.arange(10, 50)\n",
    "print(v1)"
   ]
  },
  {
   "cell_type": "code",
   "execution_count": 37,
   "id": "36c5548b",
   "metadata": {},
   "outputs": [
    {
     "name": "stdout",
     "output_type": "stream",
     "text": [
      "[[0 1 2]\n",
      " [3 4 5]\n",
      " [6 7 8]]\n"
     ]
    }
   ],
   "source": [
    "#### 5. Create a 3x3 matrix with values ranging from 0 to 8\n",
    "v2 = np.arange(0, 9)\n",
    "v3 = v2.reshape((3, 3))\n",
    "print(v3)"
   ]
  },
  {
   "cell_type": "code",
   "execution_count": 38,
   "id": "cbf7b66e",
   "metadata": {},
   "outputs": [
    {
     "name": "stdout",
     "output_type": "stream",
     "text": [
      "(array([0, 1, 4]),)\n"
     ]
    }
   ],
   "source": [
    "#### 6. Find indices of non-zero elements from [1,2,0,0,4,0]\n",
    "n = [1,2,0,0,4,0]\n",
    "non_z = np.nonzero(n)\n",
    "print(non_z)"
   ]
  },
  {
   "cell_type": "code",
   "execution_count": 40,
   "id": "ec46dd82",
   "metadata": {},
   "outputs": [
    {
     "name": "stdout",
     "output_type": "stream",
     "text": [
      "[[1. 0. 0.]\n",
      " [0. 1. 0.]\n",
      " [0. 0. 1.]]\n"
     ]
    }
   ],
   "source": [
    "#### 7. Create a 3x3 identity matrix \n",
    "i = np.eye(3, 3)\n",
    "print(i)"
   ]
  },
  {
   "cell_type": "code",
   "execution_count": 44,
   "id": "d971ecd6",
   "metadata": {},
   "outputs": [
    {
     "name": "stdout",
     "output_type": "stream",
     "text": [
      "[[[0.41699453 0.96357507 0.89433379]\n",
      "  [0.60791462 0.41601848 0.24542332]\n",
      "  [0.81130221 0.37427589 0.99038385]]\n",
      "\n",
      " [[0.94166693 0.76425477 0.26168617]\n",
      "  [0.04155367 0.6942567  0.47522049]\n",
      "  [0.45435532 0.01728234 0.19049787]]\n",
      "\n",
      " [[0.4287936  0.10600288 0.78301268]\n",
      "  [0.18208389 0.7534409  0.37506058]\n",
      "  [0.66197651 0.65830914 0.91457529]]]\n"
     ]
    }
   ],
   "source": [
    "#### 8. Create a 3x3x3 array with random values \n",
    "third = np.random.random((3,3,3))\n",
    "print(third)"
   ]
  },
  {
   "cell_type": "code",
   "execution_count": 53,
   "id": "66e15f2f",
   "metadata": {},
   "outputs": [
    {
     "name": "stdout",
     "output_type": "stream",
     "text": [
      "0.029364104515817502\n",
      "0.9819709628771961\n"
     ]
    }
   ],
   "source": [
    "#### 9. Create a 10x10 array with random values and find the minimum and maximum values (★☆☆)\n",
    "ten = np.random.random((10,10))\n",
    "Minimal = ten.min()\n",
    "Maximal = ten.max()\n",
    "\n",
    "print(Minimal)\n",
    "print(Maximal)"
   ]
  },
  {
   "cell_type": "code",
   "execution_count": 51,
   "id": "d6969865",
   "metadata": {},
   "outputs": [
    {
     "name": "stdout",
     "output_type": "stream",
     "text": [
      "0.5309248173969215\n"
     ]
    }
   ],
   "source": [
    "#### 10. Create a random vector of size 30 and find the mean value\n",
    "vs = np.random.random((1,30))\n",
    "Mean_vs = vs.mean()\n",
    "print(Mean_vs)"
   ]
  },
  {
   "cell_type": "code",
   "execution_count": 65,
   "id": "3147a9c0",
   "metadata": {},
   "outputs": [
    {
     "name": "stdout",
     "output_type": "stream",
     "text": [
      "[[0 0 0 0 0]\n",
      " [1 0 0 0 0]\n",
      " [0 2 0 0 0]\n",
      " [0 0 3 0 0]\n",
      " [0 0 0 4 0]]\n"
     ]
    }
   ],
   "source": [
    "#### 11. Create a 5x5 matrix with values 1,2,3,4 just below the diagonal\n",
    "cinco = np.diag(np.arange(1,5), k=-1)\n",
    "print(cinco)"
   ]
  },
  {
   "cell_type": "code",
   "execution_count": null,
   "id": "376fe2d9",
   "metadata": {},
   "outputs": [],
   "source": [
    "#### 12. Normalize a 5x5 random matrix\n",
    "# Hint: (x -mean)/std` \n",
    "#--> To normalize a matrix means to scale \n",
    "# the values such that that the range of the row or column \n",
    "# values is between 0 and 1.\n",
    "\n",
    "\n",
    "\n",
    "\n",
    "\n",
    "\n",
    "\n",
    "\n",
    "\n",
    "\n"
   ]
  },
  {
   "cell_type": "code",
   "execution_count": null,
   "id": "b905bace",
   "metadata": {},
   "outputs": [],
   "source": []
  }
 ],
 "metadata": {
  "kernelspec": {
   "display_name": "Python 3 (ipykernel)",
   "language": "python",
   "name": "python3"
  },
  "language_info": {
   "codemirror_mode": {
    "name": "ipython",
    "version": 3
   },
   "file_extension": ".py",
   "mimetype": "text/x-python",
   "name": "python",
   "nbconvert_exporter": "python",
   "pygments_lexer": "ipython3",
   "version": "3.9.13"
  }
 },
 "nbformat": 4,
 "nbformat_minor": 5
}
