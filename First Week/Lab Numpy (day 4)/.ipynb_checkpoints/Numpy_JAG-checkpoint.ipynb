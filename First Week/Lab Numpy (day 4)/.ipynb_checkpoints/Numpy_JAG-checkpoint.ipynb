{
 "cells": [
  {
   "cell_type": "code",
   "execution_count": 2,
   "id": "7119e53f",
   "metadata": {},
   "outputs": [],
   "source": [
    "############ Excercise 1 ##########\n",
    "# 1. Import the numpy package under the name `np` \n",
    "\n",
    "\n",
    "import numpy as np\n"
   ]
  },
  {
   "cell_type": "code",
   "execution_count": 3,
   "id": "218ef2fa",
   "metadata": {},
   "outputs": [
    {
     "name": "stdout",
     "output_type": "stream",
     "text": [
      "[0. 0. 0. 0. 0. 0. 0. 0. 0. 0.]\n"
     ]
    }
   ],
   "source": [
    "############ Excercise 2 ##########\n",
    "# 2. Create a null vector of size 10\n",
    "\n",
    "n = 10\n",
    "\n",
    "null_v = np.zeros(n)\n",
    "print(null_v)"
   ]
  },
  {
   "cell_type": "code",
   "execution_count": 4,
   "id": "d9771cc0",
   "metadata": {},
   "outputs": [
    {
     "name": "stdout",
     "output_type": "stream",
     "text": [
      "[0. 0. 0. 0. 0. 0. 0. 0. 0. 5.]\n"
     ]
    }
   ],
   "source": [
    "############ Excercise 3 ##########\n",
    "# 3. Create a null vector of size 10 but the fifth value which is 1 \n",
    "n = 10\n",
    "\n",
    "null_v5 = np.zeros(n)\n",
    "null_v5[-1] = 5\n",
    "print(null_v5)"
   ]
  },
  {
   "cell_type": "code",
   "execution_count": 5,
   "id": "36ed1d3d",
   "metadata": {},
   "outputs": [
    {
     "name": "stdout",
     "output_type": "stream",
     "text": [
      "[10 11 12 13 14 15 16 17 18 19 20 21 22 23 24 25 26 27 28 29 30 31 32 33\n",
      " 34 35 36 37 38 39 40 41 42 43 44 45 46 47 48 49]\n"
     ]
    }
   ],
   "source": [
    "#### 4. Create a vector with values ranging from 10 to 49\n",
    "v1 = np.arange(10, 50)\n",
    "print(v1)"
   ]
  },
  {
   "cell_type": "code",
   "execution_count": 6,
   "id": "9b84627d",
   "metadata": {},
   "outputs": [
    {
     "name": "stdout",
     "output_type": "stream",
     "text": [
      "[[0 1 2]\n",
      " [3 4 5]\n",
      " [6 7 8]]\n"
     ]
    }
   ],
   "source": [
    "#### 5. Create a 3x3 matrix with values ranging from 0 to 8\n",
    "v2 = np.arange(0, 9)\n",
    "v3 = v2.reshape((3, 3))\n",
    "print(v3)"
   ]
  },
  {
   "cell_type": "code",
   "execution_count": 7,
   "id": "ca237cf9",
   "metadata": {},
   "outputs": [
    {
     "name": "stdout",
     "output_type": "stream",
     "text": [
      "(array([0, 1, 4]),)\n"
     ]
    }
   ],
   "source": [
    "#### 6. Find indices of non-zero elements from [1,2,0,0,4,0]\n",
    "n = [1,2,0,0,4,0]\n",
    "non_z = np.nonzero(n)\n",
    "print(non_z)"
   ]
  },
  {
   "cell_type": "code",
   "execution_count": 8,
   "id": "aac1229a",
   "metadata": {},
   "outputs": [
    {
     "name": "stdout",
     "output_type": "stream",
     "text": [
      "[[1. 0. 0.]\n",
      " [0. 1. 0.]\n",
      " [0. 0. 1.]]\n"
     ]
    }
   ],
   "source": [
    "#### 7. Create a 3x3 identity matrix \n",
    "i = np.eye(3, 3)\n",
    "print(i)"
   ]
  },
  {
   "cell_type": "code",
   "execution_count": 9,
   "id": "f7acb3d7",
   "metadata": {},
   "outputs": [
    {
     "name": "stdout",
     "output_type": "stream",
     "text": [
      "[[[0.63943405 0.77257928 0.39391496]\n",
      "  [0.40385677 0.93743569 0.74590573]\n",
      "  [0.96043003 0.04938649 0.69403036]]\n",
      "\n",
      " [[0.95496258 0.06808728 0.94833441]\n",
      "  [0.49515251 0.41365759 0.66649236]\n",
      "  [0.47291627 0.4016004  0.70034039]]\n",
      "\n",
      " [[0.63489086 0.86347495 0.14806444]\n",
      "  [0.91789417 0.19585497 0.99792509]\n",
      "  [0.09420703 0.14588209 0.37344785]]]\n"
     ]
    }
   ],
   "source": [
    "#### 8. Create a 3x3x3 array with random values \n",
    "third = np.random.random((3,3,3))\n",
    "print(third)"
   ]
  },
  {
   "cell_type": "code",
   "execution_count": 10,
   "id": "e5074261",
   "metadata": {},
   "outputs": [
    {
     "name": "stdout",
     "output_type": "stream",
     "text": [
      "0.0058950151804688655\n",
      "0.9912247556951952\n"
     ]
    }
   ],
   "source": [
    "#### 9. Create a 10x10 array with random values and find the minimum and maximum values (★☆☆)\n",
    "ten = np.random.random((10,10))\n",
    "Minimal = ten.min()\n",
    "Maximal = ten.max()\n",
    "\n",
    "print(Minimal)\n",
    "print(Maximal)"
   ]
  },
  {
   "cell_type": "code",
   "execution_count": 11,
   "id": "59f8afaf",
   "metadata": {},
   "outputs": [
    {
     "name": "stdout",
     "output_type": "stream",
     "text": [
      "0.4450282035820257\n"
     ]
    }
   ],
   "source": [
    "#### 10. Create a random vector of size 30 and find the mean value\n",
    "vs = np.random.random((1,30))\n",
    "Mean_vs = vs.mean()\n",
    "print(Mean_vs)"
   ]
  },
  {
   "cell_type": "code",
   "execution_count": 12,
   "id": "39da250d",
   "metadata": {},
   "outputs": [
    {
     "name": "stdout",
     "output_type": "stream",
     "text": [
      "[[0 0 0 0 0]\n",
      " [1 0 0 0 0]\n",
      " [0 2 0 0 0]\n",
      " [0 0 3 0 0]\n",
      " [0 0 0 4 0]]\n"
     ]
    }
   ],
   "source": [
    "#### 11. Create a 5x5 matrix with values 1,2,3,4 just below the diagonal\n",
    "cinco = np.diag(np.arange(1,5), k=-1)\n",
    "print(cinco)"
   ]
  },
  {
   "cell_type": "code",
   "execution_count": 13,
   "id": "4d5560b2",
   "metadata": {},
   "outputs": [
    {
     "name": "stdout",
     "output_type": "stream",
     "text": [
      "[[0.58122951 0.76937937 0.25116433 0.6226648  0.64281543]\n",
      " [0.53350373 0.42744043 0.84630784 0.01557735 0.90826398]\n",
      " [0.14442552 0.15766924 0.41843912 0.27911627 0.79679024]\n",
      " [0.83556703 0.40752715 0.52979499 0.840454   0.26434994]\n",
      " [0.19413143 0.3814108  0.67751052 0.01156706 0.33971144]]\n"
     ]
    }
   ],
   "source": [
    "#### 12. Normalize a 5x5 random matrix\n",
    "# Hint: (x -mean)/std` \n",
    "#--> To normalize a matrix means to scale \n",
    "# the values such that that the range of the row or column \n",
    "# values is between 0 and 1.\n",
    "\n",
    "d = np.random.random((5, 5))\n",
    "print(d)\n"
   ]
  },
  {
   "cell_type": "code",
   "execution_count": 14,
   "id": "9e4d494b",
   "metadata": {},
   "outputs": [
    {
     "name": "stdout",
     "output_type": "stream",
     "text": [
      "[[ 0.39866157  1.10523845 -0.8408633   0.55426742  0.62994097]\n",
      " [ 0.21943245 -0.17887706  1.39413518 -1.72558525  1.6268049 ]\n",
      " [-1.2417096  -1.1919742  -0.21268053 -0.73589272  1.20817709]\n",
      " [ 1.3537992  -0.25365925  0.20550466  1.3721517  -0.79134614]\n",
      " [-1.05504432 -0.35173645  0.76023471 -1.74064549 -0.50833398]]\n"
     ]
    }
   ],
   "source": [
    "mean_d = np.mean(d)\n",
    "stdev_d = np.std(d)\n",
    "\n",
    "normalized_data = (d-mean_d)/stdev_d\n",
    "print(normalized_data)"
   ]
  },
  {
   "cell_type": "code",
   "execution_count": 15,
   "id": "af04119f",
   "metadata": {},
   "outputs": [
    {
     "name": "stdout",
     "output_type": "stream",
     "text": [
      "[1 4 7]\n"
     ]
    }
   ],
   "source": [
    "#### 13. How to find common values between two arrays?\n",
    "# np.intersect1d\n",
    "common = np.intersect1d([1,4,5,7,8],[7,3,4,1])\n",
    "print(common)"
   ]
  },
  {
   "cell_type": "code",
   "execution_count": 16,
   "id": "ec0cc732",
   "metadata": {},
   "outputs": [
    {
     "name": "stdout",
     "output_type": "stream",
     "text": [
      "[10  4  9  5  6  8  2  1  6  3]\n",
      "[ 1  2  3  4  5  6  6  8  9 10]\n"
     ]
    }
   ],
   "source": [
    "#### 14. Create a random vector of size 10 and sort it\n",
    "# sort\n",
    "r = np.random.randint(low=1, high=11, size=10)\n",
    "print(r)\n",
    "r_sorted = np.sort(r)\n",
    "print(r_sorted)"
   ]
  },
  {
   "cell_type": "code",
   "execution_count": 17,
   "id": "3b35bbd6",
   "metadata": {},
   "outputs": [
    {
     "name": "stdout",
     "output_type": "stream",
     "text": [
      "[0.85752051 0.24259638 0.29934493 0.82112491 0.13740201 0.98995668\n",
      " 0.93561667 0.63996238 0.40253567 0.73099246]\n"
     ]
    },
    {
     "data": {
      "text/plain": [
       "array([0.85752051, 0.24259638, 0.29934493, 0.82112491, 0.13740201,\n",
       "       0.        , 0.93561667, 0.63996238, 0.40253567, 0.73099246])"
      ]
     },
     "execution_count": 17,
     "metadata": {},
     "output_type": "execute_result"
    }
   ],
   "source": [
    "#### 15. Create random vector of size 10 and replace the maximum value by 0 \n",
    "#argmax\n",
    "\n",
    "s = np.random.random(10)\n",
    "print(s)\n",
    "s[s.argmax()]=0\n",
    "s\n"
   ]
  },
  {
   "cell_type": "code",
   "execution_count": 18,
   "id": "449089ea",
   "metadata": {},
   "outputs": [
    {
     "name": "stdout",
     "output_type": "stream",
     "text": [
      "[[ 0.48665921 -0.2910796  -0.06549792 -0.1300817 ]\n",
      " [-0.06999902  0.14527301  0.02592699 -0.10120098]\n",
      " [ 0.30338136 -0.33536261  0.15829929 -0.12631805]\n",
      " [ 0.14079794 -0.17066321 -0.2771656   0.30703086]]\n"
     ]
    }
   ],
   "source": [
    "#### 16. Subtract the mean of each row of a matrix\n",
    "# `hint: mean(axis=,keepdims=)`\n",
    "\n",
    "m = np.random.random((4,4))\n",
    "\n",
    "\n",
    "m -= np.mean(m, axis=1, keepdims=True)\n",
    "print(m)"
   ]
  },
  {
   "cell_type": "code",
   "execution_count": 19,
   "id": "d15db9ee",
   "metadata": {},
   "outputs": [
    {
     "name": "stdout",
     "output_type": "stream",
     "text": [
      "[1166 6262 7313 ...  132 7061 4403]\n",
      "[9995 9996 9997 9998 9999]\n"
     ]
    }
   ],
   "source": [
    "#### 17. How to get the n largest values of an array\n",
    "# hint: np.argsort | np.argpartition`\n",
    "Z = np.arange(10000)\n",
    "np.random.shuffle(Z)\n",
    "n = 5\n",
    "print(Z)\n",
    "\n",
    "u = np.argsort(Z)[-n:]\n",
    "largest_values = Z[u]\n",
    "print(largest_values)"
   ]
  },
  {
   "cell_type": "code",
   "execution_count": 20,
   "id": "bcb0a99e",
   "metadata": {},
   "outputs": [
    {
     "name": "stdout",
     "output_type": "stream",
     "text": [
      "[[10  9  8]\n",
      " [ 9  1  9]\n",
      " [ 2  2  3]\n",
      " [ 3  3  4]\n",
      " [ 5  1  5]]\n"
     ]
    }
   ],
   "source": [
    "#### 18. Create a random 5*3 matrix and replace items that are larger than 4 by their squares ( Example:  6 --> 36) \n",
    "#`hint: np.where`\n",
    "\n",
    "x = np.random.randint(low=1, high=11, size=(5,3))\n",
    "print(x)\n"
   ]
  },
  {
   "cell_type": "code",
   "execution_count": 121,
   "id": "c1aa05b5",
   "metadata": {
    "scrolled": false
   },
   "outputs": [
    {
     "name": "stdout",
     "output_type": "stream",
     "text": [
      "[[ 36  81  49]\n",
      " [ 36  36  81]\n",
      " [  4  49   2]\n",
      " [100  36  25]\n",
      " [  1  49  36]]\n"
     ]
    }
   ],
   "source": [
    "x_power = np.where(x > 4, x**2, x)\n",
    "print(x_power)"
   ]
  }
 ],
 "metadata": {
  "kernelspec": {
   "display_name": "Python 3 (ipykernel)",
   "language": "python",
   "name": "python3"
  },
  "language_info": {
   "codemirror_mode": {
    "name": "ipython",
    "version": 3
   },
   "file_extension": ".py",
   "mimetype": "text/x-python",
   "name": "python",
   "nbconvert_exporter": "python",
   "pygments_lexer": "ipython3",
   "version": "3.9.13"
  }
 },
 "nbformat": 4,
 "nbformat_minor": 5
}
