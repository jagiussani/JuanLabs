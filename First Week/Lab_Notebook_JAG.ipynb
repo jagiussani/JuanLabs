{
 "cells": [
  {
   "cell_type": "markdown",
   "id": "4b38df57",
   "metadata": {
    "slideshow": {
     "slide_type": "slide"
    }
   },
   "source": [
    "# Welcome to TechnoViking's Vacation"
   ]
  },
  {
   "cell_type": "markdown",
   "id": "02c64854",
   "metadata": {
    "slideshow": {
     "slide_type": "slide"
    }
   },
   "source": [
    "## Table of contents\n",
    "\n",
    "- [Purpose](#Purpose)\n",
    "- [Name](#Name)\n",
    "- [Destination](#Destination)\n",
    "- [Why Berlin?](#Why_Berlin?)\n",
    "- [Relevant Annotations](#Relevant_Annotations)\n"
   ]
  },
  {
   "cell_type": "markdown",
   "id": "6bf07065",
   "metadata": {
    "slideshow": {
     "slide_type": "slide"
    }
   },
   "source": [
    "## Purpose <a id='Purpose'></a>"
   ]
  },
  {
   "cell_type": "markdown",
   "id": "b0abe3fd",
   "metadata": {
    "slideshow": {
     "slide_type": "slide"
    }
   },
   "source": [
    "<font color='green'>Purpose: We want to learn TechnoViking's preferences when his vacationing. What he loves to do, where does he want to go.. etc.</font>"
   ]
  },
  {
   "cell_type": "markdown",
   "id": "ef1b65cb",
   "metadata": {
    "slideshow": {
     "slide_type": "slide"
    }
   },
   "source": [
    "## Name <a id='Name'></a>"
   ]
  },
  {
   "cell_type": "code",
   "execution_count": 2,
   "id": "f31a6815",
   "metadata": {
    "slideshow": {
     "slide_type": "slide"
    }
   },
   "outputs": [
    {
     "name": "stdout",
     "output_type": "stream",
     "text": [
      "Insert the name of your Viking: Carlos\n"
     ]
    }
   ],
   "source": [
    "Name_Viking = input(\"Insert the name of your Viking: \")"
   ]
  },
  {
   "cell_type": "markdown",
   "id": "b7680c3e",
   "metadata": {
    "slideshow": {
     "slide_type": "slide"
    }
   },
   "source": [
    "![Gif](https://media.giphy.com/media/v1.Y2lkPTc5MGI3NjExOTUzYzkxNzc2NzNmZjY1ZGMyMWQ5N2Y3ZDExZTAxYWE3NmQ5M2ZiYiZjdD1n/Hic2hhimBqrjW/giphy.gif)"
   ]
  },
  {
   "cell_type": "markdown",
   "id": "09be4d96",
   "metadata": {
    "slideshow": {
     "slide_type": "slide"
    }
   },
   "source": [
    "## Destination <a id='Destination'></a>"
   ]
  },
  {
   "cell_type": "markdown",
   "id": "70184d5a",
   "metadata": {
    "slideshow": {
     "slide_type": "slide"
    }
   },
   "source": [
    "### Where should TechnoViking go?"
   ]
  },
  {
   "cell_type": "markdown",
   "id": "b54579dd",
   "metadata": {
    "slideshow": {
     "slide_type": "slide"
    }
   },
   "source": [
    "*You guessed it:*"
   ]
  },
  {
   "cell_type": "markdown",
   "id": "c90244b2",
   "metadata": {
    "slideshow": {
     "slide_type": "slide"
    }
   },
   "source": [
    "![PerfectVacation.com_Photo](https://www.visitberlin.de/system/files/styles/visitberlin_teaser_block_small_visitberlin_mobile_1x/private/image/iStock_000049394172_istock.com_Mapics_DL_PPT_0.jpg?h=5f29f7b4&itok=1pMBIJfS)"
   ]
  },
  {
   "cell_type": "markdown",
   "id": "260e1d6f",
   "metadata": {
    "slideshow": {
     "slide_type": "slide"
    }
   },
   "source": [
    "### Berlin"
   ]
  },
  {
   "cell_type": "markdown",
   "id": "3a2f6e3c",
   "metadata": {
    "slideshow": {
     "slide_type": "slide"
    }
   },
   "source": [
    "## Why Berlin? <a id='Why_Berlin?'></a>"
   ]
  },
  {
   "cell_type": "markdown",
   "id": "0f0150cf",
   "metadata": {
    "slideshow": {
     "slide_type": "slide"
    }
   },
   "source": [
    "It could not be anywhere else:\n",
    "- In Berlin he can dance all weekend long in the same club\n",
    "- And yeah, he will hear a lot of techno, but he enjoys other kinds of music\n",
    "- Here he can be topeless and no ones cares\n"
   ]
  },
  {
   "cell_type": "code",
   "execution_count": 1,
   "id": "0ab96608",
   "metadata": {
    "scrolled": true,
    "slideshow": {
     "slide_type": "slide"
    }
   },
   "outputs": [
    {
     "name": "stderr",
     "output_type": "stream",
     "text": [
      "/Users/juanandresgiussani/opt/anaconda3/lib/python3.9/site-packages/IPython/core/display.py:724: UserWarning: Consider using IPython.display.IFrame instead\n",
      "  warnings.warn(\"Consider using IPython.display.IFrame instead\")\n"
     ]
    },
    {
     "data": {
      "text/html": [
       "<iframe width=\"560\" height=\"315\" src=\"https://www.youtube.com/embed/vLe7IO5GYe0?start=1\" title=\"YouTube video player\" frameborder=\"0\" allow=\"accelerometer; autoplay; clipboard-write; encrypted-media; gyroscope; picture-in-picture; web-share\" allowfullscreen></iframe>"
      ],
      "text/plain": [
       "<IPython.core.display.HTML object>"
      ]
     },
     "execution_count": 1,
     "metadata": {},
     "output_type": "execute_result"
    }
   ],
   "source": [
    "from IPython.display import HTML\n",
    "HTML('<iframe width=\"560\" height=\"315\" src=\"https://www.youtube.com/embed/vLe7IO5GYe0?start=1\" title=\"YouTube video player\" frameborder=\"0\" allow=\"accelerometer; autoplay; clipboard-write; encrypted-media; gyroscope; picture-in-picture; web-share\" allowfullscreen></iframe>')"
   ]
  },
  {
   "cell_type": "markdown",
   "id": "8f378212",
   "metadata": {
    "slideshow": {
     "slide_type": "slide"
    }
   },
   "source": [
    "## Relevant Annotations <a id='Relevant_Annotations'></a>"
   ]
  },
  {
   "cell_type": "code",
   "execution_count": null,
   "id": "c8319331",
   "metadata": {
    "slideshow": {
     "slide_type": "slide"
    }
   },
   "outputs": [],
   "source": [
    "#### Relevant annotations:\n",
    "#1. Input function\n",
    "#2. Paste Pictures-URL in a Markdown Cell: ![Name](URL)\n",
    "#3. Change color: <font color='green'>text</font>\n",
    "#4. Do a table of contents. Important: Anchor <a id='anchor'></a>"
   ]
  },
  {
   "cell_type": "markdown",
   "id": "ae206f27",
   "metadata": {
    "slideshow": {
     "slide_type": "slide"
    }
   },
   "source": [
    "![TechnoViking_Photo](https://i.ytimg.com/vi/UjCdB5p2v0Y/hqdefault.jpg)"
   ]
  },
  {
   "cell_type": "code",
   "execution_count": null,
   "id": "47e0fda8",
   "metadata": {},
   "outputs": [],
   "source": []
  }
 ],
 "metadata": {
  "celltoolbar": "Slideshow",
  "kernelspec": {
   "display_name": "Python 3 (ipykernel)",
   "language": "python",
   "name": "python3"
  },
  "language_info": {
   "codemirror_mode": {
    "name": "ipython",
    "version": 3
   },
   "file_extension": ".py",
   "mimetype": "text/x-python",
   "name": "python",
   "nbconvert_exporter": "python",
   "pygments_lexer": "ipython3",
   "version": "3.9.13"
  }
 },
 "nbformat": 4,
 "nbformat_minor": 5
}
