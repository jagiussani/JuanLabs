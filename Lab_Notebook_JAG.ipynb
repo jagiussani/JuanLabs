{
 "cells": [
  {
   "cell_type": "markdown",
   "id": "d0b6479c",
   "metadata": {},
   "source": [
    "# Welcome to TechnoViking's Vacation"
   ]
  },
  {
   "cell_type": "markdown",
   "id": "de71e2dd",
   "metadata": {},
   "source": [
    "## Table of contents\n",
    "\n",
    "- [Introduction](#Name of our Viking)\n",
    "- [Vacation](#Where should TechnoViking go?)\n",
    "- [Why Berlin?](#Why Berlin?)\n",
    "- [Relevant Annotations](#Relevant Anotations)\n"
   ]
  },
  {
   "cell_type": "code",
   "execution_count": null,
   "id": "9abbafff",
   "metadata": {},
   "outputs": [],
   "source": []
  },
  {
   "cell_type": "code",
   "execution_count": null,
   "id": "e361c980",
   "metadata": {},
   "outputs": [],
   "source": []
  },
  {
   "cell_type": "markdown",
   "id": "38c1795c",
   "metadata": {},
   "source": [
    "<font color='green'>Purpose: We want to learn TechnoViking's preferences when his vacationing. What he loves to do, where does he want to go.. etc.</font>"
   ]
  },
  {
   "cell_type": "code",
   "execution_count": null,
   "id": "9a8eb3fc",
   "metadata": {
    "scrolled": true
   },
   "outputs": [],
   "source": [
    "input_name = input(\"Please insert the Name of TechnoViking: \")"
   ]
  },
  {
   "cell_type": "markdown",
   "id": "6fcb3395",
   "metadata": {},
   "source": [
    "![Gif](https://media.giphy.com/media/v1.Y2lkPTc5MGI3NjExOTUzYzkxNzc2NzNmZjY1ZGMyMWQ5N2Y3ZDExZTAxYWE3NmQ5M2ZiYiZjdD1n/Hic2hhimBqrjW/giphy.gif)"
   ]
  },
  {
   "cell_type": "markdown",
   "id": "23ab7144",
   "metadata": {},
   "source": [
    "## Where should TechnoViking go?"
   ]
  },
  {
   "cell_type": "markdown",
   "id": "6bd10f10",
   "metadata": {},
   "source": [
    "*You guessed it:*"
   ]
  },
  {
   "cell_type": "markdown",
   "id": "dd1add8a",
   "metadata": {},
   "source": [
    "![PerfectVacation.com_Photo](https://www.visitberlin.de/system/files/styles/visitberlin_teaser_block_small_visitberlin_mobile_1x/private/image/iStock_000049394172_istock.com_Mapics_DL_PPT_0.jpg?h=5f29f7b4&itok=1pMBIJfS)"
   ]
  },
  {
   "cell_type": "markdown",
   "id": "196dca15",
   "metadata": {},
   "source": [
    "### Berlin"
   ]
  },
  {
   "cell_type": "markdown",
   "id": "d576cb69",
   "metadata": {},
   "source": [
    "It could not be anywhere else:\n",
    "- In Berlin he can dance all weekend long in the same club\n",
    "- And yeah, he will hear a lot of techno, but he enjoys other kinds of music\n",
    "- Here he can be topeless and no ones cares\n"
   ]
  },
  {
   "cell_type": "code",
   "execution_count": null,
   "id": "ab7e2684",
   "metadata": {},
   "outputs": [],
   "source": [
    "#### Relevant annotations:\n",
    "1. Input function\n",
    "2. Paste Pictures-URL in a Markdown Cell: ![Name](URL)\n",
    "3. Change color: <font color='green'>text</font>\n"
   ]
  },
  {
   "cell_type": "markdown",
   "id": "41205744",
   "metadata": {},
   "source": [
    "![TechnoViking_Photo](https://i.ytimg.com/vi/UjCdB5p2v0Y/hqdefault.jpg)"
   ]
  }
 ],
 "metadata": {
  "kernelspec": {
   "display_name": "Python 3 (ipykernel)",
   "language": "python",
   "name": "python3"
  },
  "language_info": {
   "codemirror_mode": {
    "name": "ipython",
    "version": 3
   },
   "file_extension": ".py",
   "mimetype": "text/x-python",
   "name": "python",
   "nbconvert_exporter": "python",
   "pygments_lexer": "ipython3",
   "version": "3.9.13"
  }
 },
 "nbformat": 4,
 "nbformat_minor": 5
}
