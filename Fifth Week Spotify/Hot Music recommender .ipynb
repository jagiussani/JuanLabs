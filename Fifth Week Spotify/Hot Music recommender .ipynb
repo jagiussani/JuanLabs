{
 "cells": [
  {
   "cell_type": "markdown",
   "id": "0cfa9e06",
   "metadata": {},
   "source": [
    "<b/> Bilboard 100 web scrapping -> Song suggetsion"
   ]
  },
  {
   "cell_type": "code",
   "execution_count": 1,
   "id": "e7348176",
   "metadata": {},
   "outputs": [],
   "source": [
    "# 1. import libraries\n",
    "#from bs4 import BeautifulSoup\n",
    "#import requests\n",
    "import pandas as pd"
   ]
  },
  {
   "cell_type": "code",
   "execution_count": 2,
   "id": "585946f0",
   "metadata": {},
   "outputs": [],
   "source": [
    "# 2. find url and store it in a variable\n",
    "url = \"https://www.billboard.com/charts/hot-100/\""
   ]
  },
  {
   "cell_type": "code",
   "execution_count": 3,
   "id": "75915aa1",
   "metadata": {},
   "outputs": [
    {
     "ename": "NameError",
     "evalue": "name 'requests' is not defined",
     "output_type": "error",
     "traceback": [
      "\u001b[0;31m---------------------------------------------------------------------------\u001b[0m",
      "\u001b[0;31mNameError\u001b[0m                                 Traceback (most recent call last)",
      "\u001b[0;32m/var/folders/1y/cx5kjkzn1c7f97jv38f_rcx40000gn/T/ipykernel_11013/51146599.py\u001b[0m in \u001b[0;36m<module>\u001b[0;34m\u001b[0m\n\u001b[1;32m      1\u001b[0m \u001b[0;31m# 3. using request package. Download html with a get request\u001b[0m\u001b[0;34m\u001b[0m\u001b[0;34m\u001b[0m\u001b[0m\n\u001b[0;32m----> 2\u001b[0;31m \u001b[0mresponse\u001b[0m \u001b[0;34m=\u001b[0m \u001b[0mrequests\u001b[0m\u001b[0;34m.\u001b[0m\u001b[0mget\u001b[0m\u001b[0;34m(\u001b[0m\u001b[0murl\u001b[0m\u001b[0;34m)\u001b[0m\u001b[0;34m\u001b[0m\u001b[0;34m\u001b[0m\u001b[0m\n\u001b[0m",
      "\u001b[0;31mNameError\u001b[0m: name 'requests' is not defined"
     ]
    }
   ],
   "source": [
    "# 3. using request package. Download html with a get request \n",
    "response = requests.get(url)"
   ]
  },
  {
   "cell_type": "code",
   "execution_count": null,
   "id": "fccd57f1",
   "metadata": {},
   "outputs": [],
   "source": [
    "response.status_code # 200 status code means OK!"
   ]
  },
  {
   "cell_type": "code",
   "execution_count": null,
   "id": "571ded57",
   "metadata": {},
   "outputs": [],
   "source": [
    "# 4.1. parse html (create the 'soup')\n",
    "soup = BeautifulSoup(response.content, \"html.parser\")\n"
   ]
  },
  {
   "cell_type": "code",
   "execution_count": null,
   "id": "e7b6557c",
   "metadata": {},
   "outputs": [],
   "source": [
    "# Copy selector:\n",
    "#post-1479786 > div.pmc-paywall > div > div > div > div.chart-results-list.\\/\\/.lrv-u-padding-t-150.lrv-u-padding-t-050\\@mobile-max > div:nth-child(2) > ul > li.lrv-u-width-100p > ul > li.o-chart-results-list__item.\\/\\/.lrv-u-flex-grow-1.lrv-u-flex.lrv-u-flex-direction-column.lrv-u-justify-content-center.lrv-u-border-b-1.u-border-b-0\\@mobile-max.lrv-u-border-color-grey-light.lrv-u-padding-l-1\\@mobile-max\n"
   ]
  },
  {
   "cell_type": "code",
   "execution_count": null,
   "id": "40675e36",
   "metadata": {
    "scrolled": true
   },
   "outputs": [],
   "source": [
    "# 5. retrieve/extract the desired info (here, you'll paste the \"Selector\" you copied before to get the element that belongs to the top movie)\n",
    "song_selector = soup.select('#title-of-a-story.c-title.a-no-trucate')\n",
    "len(song_selector)"
   ]
  },
  {
   "cell_type": "code",
   "execution_count": null,
   "id": "40c8d132",
   "metadata": {
    "scrolled": false
   },
   "outputs": [],
   "source": [
    "#Show #All the songs\n",
    "for i in song_selector:\n",
    "    print(i.get_text().strip())"
   ]
  },
  {
   "cell_type": "code",
   "execution_count": null,
   "id": "c7360a5c",
   "metadata": {},
   "outputs": [],
   "source": [
    "# Now for the artist\n",
    "artist_selector = soup.select('span.c-label.a-no-trucate')\n",
    "len(artist_selector)"
   ]
  },
  {
   "cell_type": "code",
   "execution_count": null,
   "id": "06b9ed70",
   "metadata": {
    "scrolled": true
   },
   "outputs": [],
   "source": [
    "# Show all the artist\n",
    "for i in artist_selector:\n",
    "    print(i.get_text().strip())"
   ]
  },
  {
   "cell_type": "markdown",
   "id": "d53f9e18",
   "metadata": {},
   "source": [
    "<b/> Building the dataframe"
   ]
  },
  {
   "cell_type": "code",
   "execution_count": null,
   "id": "a313ee8c",
   "metadata": {},
   "outputs": [],
   "source": [
    "#initialize empty lists\n",
    "title = []\n",
    "artist = []"
   ]
  },
  {
   "cell_type": "code",
   "execution_count": null,
   "id": "e5916eca",
   "metadata": {},
   "outputs": [],
   "source": [
    "# define the number of iterations of our for loop \n",
    "num_iter = len(song_selector)"
   ]
  },
  {
   "cell_type": "code",
   "execution_count": null,
   "id": "f5148fa4",
   "metadata": {},
   "outputs": [],
   "source": [
    "# iterate through the result set and retrive all the data\n",
    "for i in range(num_iter):\n",
    "    title.append(song_selector[i].get_text().strip()) \n",
    "    artist.append(artist_selector[i].get_text().strip())"
   ]
  },
  {
   "cell_type": "code",
   "execution_count": null,
   "id": "e0c419c5",
   "metadata": {
    "scrolled": true
   },
   "outputs": [],
   "source": [
    "title"
   ]
  },
  {
   "cell_type": "code",
   "execution_count": null,
   "id": "e939d664",
   "metadata": {},
   "outputs": [],
   "source": [
    "artist"
   ]
  },
  {
   "cell_type": "code",
   "execution_count": null,
   "id": "b75cb37d",
   "metadata": {},
   "outputs": [],
   "source": [
    "# each list becomes a column\n",
    "hot_songs = pd.DataFrame({\"title\":title,\n",
    "                       \"artist\":artist\n",
    "                      })\n",
    "\n",
    "hot_songs.head(100)"
   ]
  },
  {
   "cell_type": "code",
   "execution_count": null,
   "id": "2b402999",
   "metadata": {},
   "outputs": [],
   "source": [
    "#Optional"
   ]
  },
  {
   "cell_type": "code",
   "execution_count": null,
   "id": "d1977117",
   "metadata": {},
   "outputs": [],
   "source": [
    "import random\n",
    "random_song = random.choice(hot_songs['title'].tolist())"
   ]
  },
  {
   "cell_type": "code",
   "execution_count": null,
   "id": "f9389647",
   "metadata": {
    "scrolled": true
   },
   "outputs": [],
   "source": [
    "playing_now = input ('What song are you listening to? ''')"
   ]
  },
  {
   "cell_type": "code",
   "execution_count": null,
   "id": "78697800",
   "metadata": {},
   "outputs": [],
   "source": [
    "if playing_now == hot_songs['title']:\n",
    "    print(random_song)\n",
    "else:\n",
    "    print('Sorry, your song is not on the hot list')"
   ]
  },
  {
   "cell_type": "code",
   "execution_count": null,
   "id": "693cf9ab",
   "metadata": {},
   "outputs": [],
   "source": []
  }
 ],
 "metadata": {
  "kernelspec": {
   "display_name": "Python 3 (ipykernel)",
   "language": "python",
   "name": "python3"
  },
  "language_info": {
   "codemirror_mode": {
    "name": "ipython",
    "version": 3
   },
   "file_extension": ".py",
   "mimetype": "text/x-python",
   "name": "python",
   "nbconvert_exporter": "python",
   "pygments_lexer": "ipython3",
   "version": "3.9.13"
  }
 },
 "nbformat": 4,
 "nbformat_minor": 5
}
