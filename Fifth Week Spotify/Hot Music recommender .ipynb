{
 "cells": [
  {
   "cell_type": "markdown",
   "id": "0cfa9e06",
   "metadata": {},
   "source": [
    "<b/> Bilboard 100 web scrapping -> Song suggetsion"
   ]
  },
  {
   "cell_type": "code",
   "execution_count": 1,
   "id": "e7348176",
   "metadata": {},
   "outputs": [],
   "source": [
    "# 1. import libraries\n",
    "from bs4 import BeautifulSoup\n",
    "import requests\n",
    "import pandas as pd"
   ]
  },
  {
   "cell_type": "code",
   "execution_count": 2,
   "id": "585946f0",
   "metadata": {},
   "outputs": [],
   "source": [
    "# 2. find url and store it in a variable\n",
    "url = \"https://www.billboard.com/charts/hot-100/\""
   ]
  },
  {
   "cell_type": "code",
   "execution_count": 3,
   "id": "75915aa1",
   "metadata": {
    "scrolled": true
   },
   "outputs": [],
   "source": [
    "# 3. using request package. Download html with a get request \n",
    "response = requests.get(url)"
   ]
  },
  {
   "cell_type": "code",
   "execution_count": 4,
   "id": "fccd57f1",
   "metadata": {},
   "outputs": [
    {
     "data": {
      "text/plain": [
       "200"
      ]
     },
     "execution_count": 4,
     "metadata": {},
     "output_type": "execute_result"
    }
   ],
   "source": [
    "response.status_code # 200 status code means OK!"
   ]
  },
  {
   "cell_type": "code",
   "execution_count": 5,
   "id": "571ded57",
   "metadata": {},
   "outputs": [],
   "source": [
    "# 4.1. parse html (create the 'soup')\n",
    "soup = BeautifulSoup(response.content, \"html.parser\")\n"
   ]
  },
  {
   "cell_type": "code",
   "execution_count": 6,
   "id": "2261a28f",
   "metadata": {},
   "outputs": [],
   "source": [
    "# Copy selector:\n",
    "#post-1479786 > div.pmc-paywall > div > div > div > div.chart-results-list.\\/\\/.lrv-u-padding-t-150.lrv-u-padding-t-050\\@mobile-max > div:nth-child(2) > ul > li.lrv-u-width-100p > ul > li.o-chart-results-list__item.\\/\\/.lrv-u-flex-grow-1.lrv-u-flex.lrv-u-flex-direction-column.lrv-u-justify-content-center.lrv-u-border-b-1.u-border-b-0\\@mobile-max.lrv-u-border-color-grey-light.lrv-u-padding-l-1\\@mobile-max\n"
   ]
  },
  {
   "cell_type": "code",
   "execution_count": 7,
   "id": "40675e36",
   "metadata": {
    "scrolled": true
   },
   "outputs": [
    {
     "data": {
      "text/plain": [
       "100"
      ]
     },
     "execution_count": 7,
     "metadata": {},
     "output_type": "execute_result"
    }
   ],
   "source": [
    "# 5. retrieve/extract the desired info (here, you'll paste the \"Selector\" you copied before to get the element that belongs to the top movie)\n",
    "song_selector = soup.select('#title-of-a-story.c-title.a-no-trucate')\n",
    "len(song_selector)"
   ]
  },
  {
   "cell_type": "code",
   "execution_count": 8,
   "id": "3382a63c",
   "metadata": {
    "scrolled": false
   },
   "outputs": [
    {
     "name": "stdout",
     "output_type": "stream",
     "text": [
      "Last Night\n",
      "Search & Rescue\n",
      "Flowers\n",
      "Kill Bill\n",
      "Creepin'\n",
      "Calm Down\n",
      "Die For You\n",
      "Boy's A Liar, Pt. 2\n",
      "Anti-Hero\n",
      "Ella Baila Sola\n",
      "Rock And A Hard Place\n",
      "Players\n",
      "You Proof\n",
      "Favorite Song\n",
      "Sure Thing\n",
      "Lavender Haze\n",
      "La Bebe\n",
      "As It Was\n",
      "Thought You Should Know\n",
      "Thinkin' Bout Me\n",
      "I'm Good (Blue)\n",
      "One Thing At A Time\n",
      "Fast Car\n",
      "Under The Influence\n",
      "Something In The Orange\n",
      "Escapism\n",
      "Thank God\n",
      "Slut Me Out\n",
      "Unholy\n",
      "Just Wanna Rock\n",
      "Handle On You\n",
      "Wait In The Truck\n",
      "TQG\n",
      "Snooze\n",
      "Rich Flex\n",
      "Heart Like A Truck\n",
      "Dancin' In The Country\n",
      "Superhero (Heroes & Villains)\n",
      "Spin Bout U\n",
      "Love You Anyway\n",
      "Fight The Feeling\n",
      "Eyes Closed\n",
      "Until I Found You\n",
      "Cuff It\n",
      "Going, Going, Gone\n",
      "Bloody Mary\n",
      "Golden Hour\n",
      "Next Thing You Know\n",
      "PRC\n",
      "Wild As Her\n",
      "Por Las Noches\n",
      "Like Crazy\n",
      "AMG\n",
      "Happy\n",
      "Tennessee Orange\n",
      "Ain't That Some\n",
      "Everything I Love\n",
      "Low Down\n",
      "5 Leaf Clover\n",
      "Cupid\n",
      "Red Ruby Da Sleeze\n",
      "Bebe Dame\n",
      "I Wrote The Book\n",
      "All Of The Girls You Loved Before\n",
      "Cowgirls\n",
      "Beso\n",
      "Man Made A Bar\n",
      "Nonsense\n",
      "Dogtooth\n",
      "Ch y La Pizza\n",
      "Strike (Holster)\n",
      "Yandel 150\n",
      "Need A Favor\n",
      "Special\n",
      "ICU\n",
      "In Ha Mood\n",
      "Painting Pictures\n",
      "Ceilings\n",
      "Bzrp Music Sessions, Vol. 53\n",
      "Trance\n",
      "Nasty\n",
      "Sorry Not Sorry\n",
      "Peaches\n",
      "Forever\n",
      "Careful\n",
      "Gold\n",
      "El Azul\n",
      "Love Again\n",
      "Human\n",
      "I Know\n",
      "Dawns\n",
      "El Gordo Trae El Mando\n",
      "Sunrise\n",
      "Never Felt So Alone\n",
      "Don't Play With It\n",
      "Memory Lane\n",
      "What He Didn't Do\n",
      "Que Vuelvas\n",
      "WTF\n",
      "'98 Braves\n"
     ]
    }
   ],
   "source": [
    "#Show #All the songs\n",
    "for i in song_selector:\n",
    "    print(i.get_text().strip())"
   ]
  },
  {
   "cell_type": "code",
   "execution_count": 9,
   "id": "b57116f7",
   "metadata": {},
   "outputs": [
    {
     "data": {
      "text/plain": [
       "100"
      ]
     },
     "execution_count": 9,
     "metadata": {},
     "output_type": "execute_result"
    }
   ],
   "source": [
    "# Now for the artist\n",
    "artist_selector = soup.select('span.c-label.a-no-trucate')\n",
    "len(artist_selector)"
   ]
  },
  {
   "cell_type": "code",
   "execution_count": 10,
   "id": "a3b2188b",
   "metadata": {
    "scrolled": true
   },
   "outputs": [
    {
     "name": "stdout",
     "output_type": "stream",
     "text": [
      "Morgan Wallen\n",
      "Drake\n",
      "Miley Cyrus\n",
      "SZA\n",
      "Metro Boomin, The Weeknd & 21 Savage\n",
      "Rema & Selena Gomez\n",
      "The Weeknd & Ariana Grande\n",
      "PinkPantheress & Ice Spice\n",
      "Taylor Swift\n",
      "Eslabon Armado X Peso Pluma\n",
      "Bailey Zimmerman\n",
      "Coi Leray\n",
      "Morgan Wallen\n",
      "Toosii\n",
      "Miguel\n",
      "Taylor Swift\n",
      "Yng Lvcas x Peso Pluma\n",
      "Harry Styles\n",
      "Morgan Wallen\n",
      "Morgan Wallen\n",
      "David Guetta & Bebe Rexha\n",
      "Morgan Wallen\n",
      "Luke Combs\n",
      "Chris Brown\n",
      "Zach Bryan\n",
      "RAYE Featuring 070 Shake\n",
      "Kane Brown With Katelyn Brown\n",
      "NLE Choppa\n",
      "Sam Smith & Kim Petras\n",
      "Lil Uzi Vert\n",
      "Parker McCollum\n",
      "HARDY Featuring Lainey Wilson\n",
      "Karol G x Shakira\n",
      "SZA\n",
      "Drake & 21 Savage\n",
      "Lainey Wilson\n",
      "Tyler Hubbard\n",
      "Metro Boomin, Future & Chris Brown\n",
      "Drake & 21 Savage\n",
      "Luke Combs\n",
      "Rod Wave\n",
      "Ed Sheeran\n",
      "Stephen Sanchez\n",
      "Beyonce\n",
      "Luke Combs\n",
      "Lady Gaga\n",
      "JVKE\n",
      "Jordan Davis\n",
      "Peso Pluma X Natanael Cano\n",
      "Corey Kent\n",
      "Peso Pluma\n",
      "Jimin\n",
      "Gabito Ballesteros, Peso Pluma & Natanael Cano\n",
      "NF\n",
      "Megan Moroney\n",
      "Morgan Wallen\n",
      "Morgan Wallen\n",
      "Lil Baby\n",
      "Luke Combs\n",
      "Fifty Fifty\n",
      "Nicki Minaj\n",
      "Fuerza Regida X Grupo Frontera\n",
      "Morgan Wallen\n",
      "Taylor Swift\n",
      "Morgan Wallen Featuring ERNEST\n",
      "Rosalia & Rauw Alejandro\n",
      "Morgan Wallen Featuring Eric Church\n",
      "Sabrina Carpenter\n",
      "Tyler, The Creator\n",
      "Fuerza Regida X Natanael Cano\n",
      "Lil Yachty\n",
      "Yandel & Feid\n",
      "Jelly Roll\n",
      "Lizzo Featuring SZA\n",
      "Coco Jones\n",
      "Ice Spice\n",
      "Superstar Pride\n",
      "Lizzy McAlpine\n",
      "Bizarrap & Shakira\n",
      "Metro Boomin, Travis Scott & Young Thug\n",
      "Russ\n",
      "Tyler, The Creator\n",
      "Jack Black\n",
      "Lil Baby Featuring Fridayy\n",
      "NF & Cordae\n",
      "Dierks Bentley\n",
      "Junior H x Peso Pluma\n",
      "The Kid LAROI\n",
      "Cody Johnson\n",
      "Kanii\n",
      "Zach Bryan Featuring Maggie Rogers\n",
      "Chino Pacas\n",
      "Morgan Wallen\n",
      "Labrinth\n",
      "Lola Brooke X Latto X Yung Miami Or Featuring Billy B\n",
      "Old Dominion\n",
      "Carly Pearce\n",
      "Carin Leon X Grupo Frontera\n",
      "YoungBoy Never Broke Again Featuring Nicki Minaj\n",
      "Morgan Wallen\n"
     ]
    }
   ],
   "source": [
    "# Show all the artist\n",
    "for i in artist_selector:\n",
    "    print(i.get_text().strip())"
   ]
  },
  {
   "cell_type": "markdown",
   "id": "b6fbf3ad",
   "metadata": {},
   "source": [
    "<b/> Building the dataframe"
   ]
  },
  {
   "cell_type": "code",
   "execution_count": 11,
   "id": "08e38f6b",
   "metadata": {},
   "outputs": [],
   "source": [
    "#initialize empty lists\n",
    "title = []\n",
    "artist = []"
   ]
  },
  {
   "cell_type": "code",
   "execution_count": 12,
   "id": "35608a53",
   "metadata": {},
   "outputs": [],
   "source": [
    "# define the number of iterations of our for loop \n",
    "num_iter = len(song_selector)"
   ]
  },
  {
   "cell_type": "code",
   "execution_count": 13,
   "id": "43dcfe73",
   "metadata": {},
   "outputs": [],
   "source": [
    "# iterate through the result set and retrive all the data\n",
    "for i in range(num_iter):\n",
    "    title.append(song_selector[i].get_text().strip()) \n",
    "    artist.append(artist_selector[i].get_text().strip())"
   ]
  },
  {
   "cell_type": "code",
   "execution_count": 14,
   "id": "87639663",
   "metadata": {
    "scrolled": true
   },
   "outputs": [
    {
     "data": {
      "text/plain": [
       "['Last Night',\n",
       " 'Search & Rescue',\n",
       " 'Flowers',\n",
       " 'Kill Bill',\n",
       " \"Creepin'\",\n",
       " 'Calm Down',\n",
       " 'Die For You',\n",
       " \"Boy's A Liar, Pt. 2\",\n",
       " 'Anti-Hero',\n",
       " 'Ella Baila Sola',\n",
       " 'Rock And A Hard Place',\n",
       " 'Players',\n",
       " 'You Proof',\n",
       " 'Favorite Song',\n",
       " 'Sure Thing',\n",
       " 'Lavender Haze',\n",
       " 'La Bebe',\n",
       " 'As It Was',\n",
       " 'Thought You Should Know',\n",
       " \"Thinkin' Bout Me\",\n",
       " \"I'm Good (Blue)\",\n",
       " 'One Thing At A Time',\n",
       " 'Fast Car',\n",
       " 'Under The Influence',\n",
       " 'Something In The Orange',\n",
       " 'Escapism',\n",
       " 'Thank God',\n",
       " 'Slut Me Out',\n",
       " 'Unholy',\n",
       " 'Just Wanna Rock',\n",
       " 'Handle On You',\n",
       " 'Wait In The Truck',\n",
       " 'TQG',\n",
       " 'Snooze',\n",
       " 'Rich Flex',\n",
       " 'Heart Like A Truck',\n",
       " \"Dancin' In The Country\",\n",
       " 'Superhero (Heroes & Villains)',\n",
       " 'Spin Bout U',\n",
       " 'Love You Anyway',\n",
       " 'Fight The Feeling',\n",
       " 'Eyes Closed',\n",
       " 'Until I Found You',\n",
       " 'Cuff It',\n",
       " 'Going, Going, Gone',\n",
       " 'Bloody Mary',\n",
       " 'Golden Hour',\n",
       " 'Next Thing You Know',\n",
       " 'PRC',\n",
       " 'Wild As Her',\n",
       " 'Por Las Noches',\n",
       " 'Like Crazy',\n",
       " 'AMG',\n",
       " 'Happy',\n",
       " 'Tennessee Orange',\n",
       " \"Ain't That Some\",\n",
       " 'Everything I Love',\n",
       " 'Low Down',\n",
       " '5 Leaf Clover',\n",
       " 'Cupid',\n",
       " 'Red Ruby Da Sleeze',\n",
       " 'Bebe Dame',\n",
       " 'I Wrote The Book',\n",
       " 'All Of The Girls You Loved Before',\n",
       " 'Cowgirls',\n",
       " 'Beso',\n",
       " 'Man Made A Bar',\n",
       " 'Nonsense',\n",
       " 'Dogtooth',\n",
       " 'Ch y La Pizza',\n",
       " 'Strike (Holster)',\n",
       " 'Yandel 150',\n",
       " 'Need A Favor',\n",
       " 'Special',\n",
       " 'ICU',\n",
       " 'In Ha Mood',\n",
       " 'Painting Pictures',\n",
       " 'Ceilings',\n",
       " 'Bzrp Music Sessions, Vol. 53',\n",
       " 'Trance',\n",
       " 'Nasty',\n",
       " 'Sorry Not Sorry',\n",
       " 'Peaches',\n",
       " 'Forever',\n",
       " 'Careful',\n",
       " 'Gold',\n",
       " 'El Azul',\n",
       " 'Love Again',\n",
       " 'Human',\n",
       " 'I Know',\n",
       " 'Dawns',\n",
       " 'El Gordo Trae El Mando',\n",
       " 'Sunrise',\n",
       " 'Never Felt So Alone',\n",
       " \"Don't Play With It\",\n",
       " 'Memory Lane',\n",
       " \"What He Didn't Do\",\n",
       " 'Que Vuelvas',\n",
       " 'WTF',\n",
       " \"'98 Braves\"]"
      ]
     },
     "execution_count": 14,
     "metadata": {},
     "output_type": "execute_result"
    }
   ],
   "source": [
    "title"
   ]
  },
  {
   "cell_type": "code",
   "execution_count": 15,
   "id": "6b908a11",
   "metadata": {},
   "outputs": [
    {
     "data": {
      "text/plain": [
       "['Morgan Wallen',\n",
       " 'Drake',\n",
       " 'Miley Cyrus',\n",
       " 'SZA',\n",
       " 'Metro Boomin, The Weeknd & 21 Savage',\n",
       " 'Rema & Selena Gomez',\n",
       " 'The Weeknd & Ariana Grande',\n",
       " 'PinkPantheress & Ice Spice',\n",
       " 'Taylor Swift',\n",
       " 'Eslabon Armado X Peso Pluma',\n",
       " 'Bailey Zimmerman',\n",
       " 'Coi Leray',\n",
       " 'Morgan Wallen',\n",
       " 'Toosii',\n",
       " 'Miguel',\n",
       " 'Taylor Swift',\n",
       " 'Yng Lvcas x Peso Pluma',\n",
       " 'Harry Styles',\n",
       " 'Morgan Wallen',\n",
       " 'Morgan Wallen',\n",
       " 'David Guetta & Bebe Rexha',\n",
       " 'Morgan Wallen',\n",
       " 'Luke Combs',\n",
       " 'Chris Brown',\n",
       " 'Zach Bryan',\n",
       " 'RAYE Featuring 070 Shake',\n",
       " 'Kane Brown With Katelyn Brown',\n",
       " 'NLE Choppa',\n",
       " 'Sam Smith & Kim Petras',\n",
       " 'Lil Uzi Vert',\n",
       " 'Parker McCollum',\n",
       " 'HARDY Featuring Lainey Wilson',\n",
       " 'Karol G x Shakira',\n",
       " 'SZA',\n",
       " 'Drake & 21 Savage',\n",
       " 'Lainey Wilson',\n",
       " 'Tyler Hubbard',\n",
       " 'Metro Boomin, Future & Chris Brown',\n",
       " 'Drake & 21 Savage',\n",
       " 'Luke Combs',\n",
       " 'Rod Wave',\n",
       " 'Ed Sheeran',\n",
       " 'Stephen Sanchez',\n",
       " 'Beyonce',\n",
       " 'Luke Combs',\n",
       " 'Lady Gaga',\n",
       " 'JVKE',\n",
       " 'Jordan Davis',\n",
       " 'Peso Pluma X Natanael Cano',\n",
       " 'Corey Kent',\n",
       " 'Peso Pluma',\n",
       " 'Jimin',\n",
       " 'Gabito Ballesteros, Peso Pluma & Natanael Cano',\n",
       " 'NF',\n",
       " 'Megan Moroney',\n",
       " 'Morgan Wallen',\n",
       " 'Morgan Wallen',\n",
       " 'Lil Baby',\n",
       " 'Luke Combs',\n",
       " 'Fifty Fifty',\n",
       " 'Nicki Minaj',\n",
       " 'Fuerza Regida X Grupo Frontera',\n",
       " 'Morgan Wallen',\n",
       " 'Taylor Swift',\n",
       " 'Morgan Wallen Featuring ERNEST',\n",
       " 'Rosalia & Rauw Alejandro',\n",
       " 'Morgan Wallen Featuring Eric Church',\n",
       " 'Sabrina Carpenter',\n",
       " 'Tyler, The Creator',\n",
       " 'Fuerza Regida X Natanael Cano',\n",
       " 'Lil Yachty',\n",
       " 'Yandel & Feid',\n",
       " 'Jelly Roll',\n",
       " 'Lizzo Featuring SZA',\n",
       " 'Coco Jones',\n",
       " 'Ice Spice',\n",
       " 'Superstar Pride',\n",
       " 'Lizzy McAlpine',\n",
       " 'Bizarrap & Shakira',\n",
       " 'Metro Boomin, Travis Scott & Young Thug',\n",
       " 'Russ',\n",
       " 'Tyler, The Creator',\n",
       " 'Jack Black',\n",
       " 'Lil Baby Featuring Fridayy',\n",
       " 'NF & Cordae',\n",
       " 'Dierks Bentley',\n",
       " 'Junior H x Peso Pluma',\n",
       " 'The Kid LAROI',\n",
       " 'Cody Johnson',\n",
       " 'Kanii',\n",
       " 'Zach Bryan Featuring Maggie Rogers',\n",
       " 'Chino Pacas',\n",
       " 'Morgan Wallen',\n",
       " 'Labrinth',\n",
       " 'Lola Brooke X Latto X Yung Miami Or Featuring Billy B',\n",
       " 'Old Dominion',\n",
       " 'Carly Pearce',\n",
       " 'Carin Leon X Grupo Frontera',\n",
       " 'YoungBoy Never Broke Again Featuring Nicki Minaj',\n",
       " 'Morgan Wallen']"
      ]
     },
     "execution_count": 15,
     "metadata": {},
     "output_type": "execute_result"
    }
   ],
   "source": [
    "artist"
   ]
  },
  {
   "cell_type": "code",
   "execution_count": 16,
   "id": "860f632d",
   "metadata": {},
   "outputs": [
    {
     "data": {
      "text/html": [
       "<div>\n",
       "<style scoped>\n",
       "    .dataframe tbody tr th:only-of-type {\n",
       "        vertical-align: middle;\n",
       "    }\n",
       "\n",
       "    .dataframe tbody tr th {\n",
       "        vertical-align: top;\n",
       "    }\n",
       "\n",
       "    .dataframe thead th {\n",
       "        text-align: right;\n",
       "    }\n",
       "</style>\n",
       "<table border=\"1\" class=\"dataframe\">\n",
       "  <thead>\n",
       "    <tr style=\"text-align: right;\">\n",
       "      <th></th>\n",
       "      <th>title</th>\n",
       "      <th>artist</th>\n",
       "    </tr>\n",
       "  </thead>\n",
       "  <tbody>\n",
       "    <tr>\n",
       "      <th>0</th>\n",
       "      <td>Last Night</td>\n",
       "      <td>Morgan Wallen</td>\n",
       "    </tr>\n",
       "    <tr>\n",
       "      <th>1</th>\n",
       "      <td>Search &amp; Rescue</td>\n",
       "      <td>Drake</td>\n",
       "    </tr>\n",
       "    <tr>\n",
       "      <th>2</th>\n",
       "      <td>Flowers</td>\n",
       "      <td>Miley Cyrus</td>\n",
       "    </tr>\n",
       "    <tr>\n",
       "      <th>3</th>\n",
       "      <td>Kill Bill</td>\n",
       "      <td>SZA</td>\n",
       "    </tr>\n",
       "    <tr>\n",
       "      <th>4</th>\n",
       "      <td>Creepin'</td>\n",
       "      <td>Metro Boomin, The Weeknd &amp; 21 Savage</td>\n",
       "    </tr>\n",
       "    <tr>\n",
       "      <th>...</th>\n",
       "      <td>...</td>\n",
       "      <td>...</td>\n",
       "    </tr>\n",
       "    <tr>\n",
       "      <th>95</th>\n",
       "      <td>Memory Lane</td>\n",
       "      <td>Old Dominion</td>\n",
       "    </tr>\n",
       "    <tr>\n",
       "      <th>96</th>\n",
       "      <td>What He Didn't Do</td>\n",
       "      <td>Carly Pearce</td>\n",
       "    </tr>\n",
       "    <tr>\n",
       "      <th>97</th>\n",
       "      <td>Que Vuelvas</td>\n",
       "      <td>Carin Leon X Grupo Frontera</td>\n",
       "    </tr>\n",
       "    <tr>\n",
       "      <th>98</th>\n",
       "      <td>WTF</td>\n",
       "      <td>YoungBoy Never Broke Again Featuring Nicki Minaj</td>\n",
       "    </tr>\n",
       "    <tr>\n",
       "      <th>99</th>\n",
       "      <td>'98 Braves</td>\n",
       "      <td>Morgan Wallen</td>\n",
       "    </tr>\n",
       "  </tbody>\n",
       "</table>\n",
       "<p>100 rows × 2 columns</p>\n",
       "</div>"
      ],
      "text/plain": [
       "                title                                            artist\n",
       "0          Last Night                                     Morgan Wallen\n",
       "1     Search & Rescue                                             Drake\n",
       "2             Flowers                                       Miley Cyrus\n",
       "3           Kill Bill                                               SZA\n",
       "4            Creepin'              Metro Boomin, The Weeknd & 21 Savage\n",
       "..                ...                                               ...\n",
       "95        Memory Lane                                      Old Dominion\n",
       "96  What He Didn't Do                                      Carly Pearce\n",
       "97        Que Vuelvas                       Carin Leon X Grupo Frontera\n",
       "98                WTF  YoungBoy Never Broke Again Featuring Nicki Minaj\n",
       "99         '98 Braves                                     Morgan Wallen\n",
       "\n",
       "[100 rows x 2 columns]"
      ]
     },
     "execution_count": 16,
     "metadata": {},
     "output_type": "execute_result"
    }
   ],
   "source": [
    "# each list becomes a column\n",
    "hot_songs = pd.DataFrame({\"title\":title,\n",
    "                       \"artist\":artist\n",
    "                      })\n",
    "\n",
    "hot_songs.head(100)"
   ]
  },
  {
   "cell_type": "code",
   "execution_count": 17,
   "id": "f5af9950",
   "metadata": {},
   "outputs": [],
   "source": [
    "#Optional: Song recommender"
   ]
  },
  {
   "cell_type": "code",
   "execution_count": 18,
   "id": "dddeea0d",
   "metadata": {},
   "outputs": [],
   "source": [
    "import random\n",
    "random_song = random.choice(hot_songs['title'].tolist())"
   ]
  },
  {
   "cell_type": "code",
   "execution_count": 27,
   "id": "2a6e1ce2",
   "metadata": {},
   "outputs": [],
   "source": [
    "# convert 'title' column to a list\n",
    "hot_songs_list = hot_songs['title'].tolist()"
   ]
  },
  {
   "cell_type": "code",
   "execution_count": 30,
   "id": "c6b3950c",
   "metadata": {
    "scrolled": true
   },
   "outputs": [
    {
     "name": "stdout",
     "output_type": "stream",
     "text": [
      "What song are you listening to?Flowers\n"
     ]
    }
   ],
   "source": [
    "playing_now = str(input ('What song are you listening to?'))"
   ]
  },
  {
   "cell_type": "code",
   "execution_count": 32,
   "id": "32efa2d3",
   "metadata": {},
   "outputs": [
    {
     "name": "stdout",
     "output_type": "stream",
     "text": [
      "Here is a similar popular song for you: Something In The Orange\n"
     ]
    }
   ],
   "source": [
    "if playing_now in hot_songs_list:\n",
    "    print(f'Here is a similar popular song for you: {random_song}')\n",
    "else:\n",
    "    print('Sorry, your song is not on the hot list')"
   ]
  },
  {
   "cell_type": "code",
   "execution_count": null,
   "id": "87feff0d",
   "metadata": {},
   "outputs": [],
   "source": []
  }
 ],
 "metadata": {
  "kernelspec": {
   "display_name": "Python 3 (ipykernel)",
   "language": "python",
   "name": "python3"
  },
  "language_info": {
   "codemirror_mode": {
    "name": "ipython",
    "version": 3
   },
   "file_extension": ".py",
   "mimetype": "text/x-python",
   "name": "python",
   "nbconvert_exporter": "python",
   "pygments_lexer": "ipython3",
   "version": "3.9.13"
  }
 },
 "nbformat": 4,
 "nbformat_minor": 5
}
